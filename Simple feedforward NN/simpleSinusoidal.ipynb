{
 "cells": [
  {
   "cell_type": "markdown",
   "id": "32a284de",
   "metadata": {},
   "source": [
    "# Simulating a sinusoidal pattern using a simple feedforward neural network"
   ]
  },
  {
   "cell_type": "code",
   "execution_count": 1,
   "id": "ad1b1925",
   "metadata": {},
   "outputs": [],
   "source": [
    "import numpy as np\n",
    "import matplotlib.pyplot as plt\n",
    "%matplotlib inline"
   ]
  },
  {
   "cell_type": "code",
   "execution_count": 2,
   "id": "4fe91f66",
   "metadata": {},
   "outputs": [],
   "source": [
    "X = np.arange(0, 10, 0.5).reshape(1, -1) #20 input training examples, reshaped into a (1, 20) matrix\n",
    "Y = np.sin(X)"
   ]
  },
  {
   "cell_type": "code",
   "execution_count": 3,
   "id": "b23b0218",
   "metadata": {},
   "outputs": [
    {
     "data": {
      "text/plain": [
       "(1, 20)"
      ]
     },
     "execution_count": 3,
     "metadata": {},
     "output_type": "execute_result"
    }
   ],
   "source": [
    "X.shape"
   ]
  },
  {
   "cell_type": "code",
   "execution_count": 4,
   "id": "4059bb73",
   "metadata": {},
   "outputs": [],
   "source": [
    "n_x = 1 #number of nodes in input layer\n",
    "n_h = 5 #number of nodes in hidden layer\n",
    "n_y = 1 #number of nodes in output layer"
   ]
  },
  {
   "cell_type": "code",
   "execution_count": 5,
   "id": "640b88e6",
   "metadata": {},
   "outputs": [],
   "source": [
    " # initializing parameters \n",
    "W1 = np.random.randn(n_h, n_x)*0.01\n",
    "b1 = np.random.randn(n_h, 1)*0.01\n",
    "\n",
    "W2 = np.random.randn(n_y, n_h)*0.01\n",
    "b2 = np.random.randn(n_y, 1)*0.01"
   ]
  },
  {
   "cell_type": "code",
   "execution_count": 6,
   "id": "e87318bf",
   "metadata": {},
   "outputs": [
    {
     "name": "stdout",
     "output_type": "stream",
     "text": [
      "W1 is a (5, 1) matrix\n",
      "b1 is a (5, 1) matrix\n",
      "\n",
      "W2 is a (1, 5) matrix\n",
      "b2 is a (1, 1) matrix\n"
     ]
    }
   ],
   "source": [
    "print(f\"W1 is a {W1.shape} matrix\") #shapes of parameters\n",
    "print(f\"b1 is a {b1.shape} matrix\\n\")\n",
    "print(f\"W2 is a {W2.shape} matrix\")\n",
    "print(f\"b2 is a {b2.shape} matrix\")"
   ]
  },
  {
   "cell_type": "code",
   "execution_count": 7,
   "id": "2c44b7af",
   "metadata": {},
   "outputs": [],
   "source": [
    "def sigmoid(z): #sigmoid activation function\n",
    "    return 1 / (1 + np.exp(-z))"
   ]
  },
  {
   "cell_type": "code",
   "execution_count": 8,
   "id": "724f6abc",
   "metadata": {},
   "outputs": [],
   "source": [
    "def derivate_sig(z): #derivation of sigmoid for backpropagation\n",
    "    return np.exp(-z) / ((1+np.exp(-z))**2)"
   ]
  },
  {
   "cell_type": "code",
   "execution_count": 9,
   "id": "9cc7ba04",
   "metadata": {},
   "outputs": [],
   "source": [
    "def derivate_tanh(z): #derivation of tanh for backpropagation\n",
    "    return 1 - (np.tanh(z))**2"
   ]
  },
  {
   "cell_type": "code",
   "execution_count": 10,
   "id": "afa6fca7",
   "metadata": {},
   "outputs": [],
   "source": [
    "def forward_pr(X, W1, W2, b1, b2): #forward propagation\n",
    "    Z1 = np.dot(W1, X) + b1\n",
    "    A1 = sigmoid(Z1)\n",
    "    \n",
    "    Z2 = np.dot(W2, A1) + b2\n",
    "    A2 = np.tanh(Z2)\n",
    "    return A2, A1, Z2, Z1"
   ]
  },
  {
   "cell_type": "code",
   "execution_count": 11,
   "id": "ab7e45ad",
   "metadata": {},
   "outputs": [],
   "source": [
    "def backward_pr(A2, A1, Z2, Z1): #backward propagation \n",
    "    dZ2 = np.multiply(derivate_tanh(Z2), -(Y - A2)) #output layer activation function was tanh\n",
    "    dW2 = np.dot(dZ2, A1.T)\n",
    "    db2 = dZ2 * 1\n",
    "    dZ1 = np.multiply(derivate_sig(Z1), np.dot( W2.T, -(Y - A2))) #hidden layer activation function was sigmoid\n",
    "    dW1 = np.dot(dZ1, X.T)\n",
    "    db1 = dZ1 * 1\n",
    "    return dW2 , db2, dW1, db1"
   ]
  },
  {
   "cell_type": "code",
   "execution_count": 12,
   "id": "302b29c3",
   "metadata": {},
   "outputs": [],
   "source": [
    "def cost_func(Y, A2): #cost function based on Mean Squared Error algorithm\n",
    "    J= 0.5 * np.sum((Y - A2)**2) \n",
    "    return J"
   ]
  },
  {
   "cell_type": "code",
   "execution_count": 13,
   "id": "1546d95f",
   "metadata": {},
   "outputs": [],
   "source": [
    "alpha = 0.05 #learning rate\n",
    "num_iterate = 10000 #number of iterations"
   ]
  },
  {
   "cell_type": "code",
   "execution_count": 14,
   "id": "01d832f2",
   "metadata": {},
   "outputs": [],
   "source": [
    "cost = [] #empty list for storing costs\n",
    "for i in range(num_iterate): #updating the parameters\n",
    "    A2, A1, Z2, Z1 = forward_pr(X, W1, W2, b1, b2)\n",
    "    dW2, db2, dW1, db1 = backward_pr(A2, A1, Z2, Z1)\n",
    "    \n",
    "    W1 = W1 - alpha * dW1\n",
    "    W2 = W2 - alpha * dW2\n",
    "    b1 = b1 - alpha * db1\n",
    "    b2 = b2 - alpha * db2\n",
    "    \n",
    "    c = cost_func(Y, A2)\n",
    "       \n",
    "    cost.append(c)"
   ]
  },
  {
   "cell_type": "code",
   "execution_count": 15,
   "id": "8d62a9ee",
   "metadata": {
    "scrolled": true
   },
   "outputs": [
    {
     "name": "stdout",
     "output_type": "stream",
     "text": [
      "cost after 0 iterations is: 4.6943\n",
      "cost after 1000 iterations is: 0.0036\n",
      "cost after 2000 iterations is: 0.0014\n",
      "cost after 3000 iterations is: 0.0008\n",
      "cost after 4000 iterations is: 0.0005\n",
      "cost after 5000 iterations is: 0.0004\n",
      "cost after 6000 iterations is: 0.0003\n",
      "cost after 7000 iterations is: 0.0003\n",
      "cost after 8000 iterations is: 0.0002\n",
      "cost after 9000 iterations is: 0.0002\n",
      "cost after all the iterations is: 0.0002\n"
     ]
    }
   ],
   "source": [
    "for i in range(num_iterate): #printing cost for every 1000 iterations\n",
    "    if i%1000 == 0:\n",
    "        print(f'cost after {i} iterations is: {round(cost[i], 4)}')\n",
    "print(f'cost after all the iterations is: {round(cost[-1], 4)}')"
   ]
  },
  {
   "cell_type": "code",
   "execution_count": 16,
   "id": "9704c67e",
   "metadata": {},
   "outputs": [
    {
     "data": {
      "text/plain": [
       "Text(0, 0.5, 'Cost')"
      ]
     },
     "execution_count": 16,
     "metadata": {},
     "output_type": "execute_result"
    },
    {
     "data": {
      "image/png": "[encoded data removed]",
      "text/plain": [
       "<Figure size 640x480 with 1 Axes>"
      ]
     },
     "metadata": {},
     "output_type": "display_data"
    }
   ],
   "source": [
    "plt.plot(range(num_iterate), cost)\n",
    "plt.title(\"Cost per iterations\")\n",
    "plt.xlabel(\"Iterations\")\n",
    "plt.ylabel(\"Cost\")"
   ]
  },
  {
   "cell_type": "code",
   "execution_count": 17,
   "id": "62efaff6",
   "metadata": {},
   "outputs": [
    {
     "data": {
      "text/plain": [
       "<matplotlib.collections.PathCollection at 0x7f98ca2a96f0>"
      ]
     },
     "execution_count": 17,
     "metadata": {},
     "output_type": "execute_result"
    },
    {
     "data": {
      "image/png": "[encoded data removed]",
      "text/plain": [
       "<Figure size 640x480 with 1 Axes>"
      ]
     },
     "metadata": {},
     "output_type": "display_data"
    }
   ],
   "source": [
    "fig =plt.figure()\n",
    "ax = fig.add_subplot(111)\n",
    "ax.grid()\n",
    "ax.scatter(X, Y, color='red', marker='o') #real Y = sinx plotted as red circles\n",
    "ax.scatter(X,  A2, color='green', marker='^') #output of our neural network as green triangles"
   ]
  },
  {
   "cell_type": "markdown",
   "id": "d1d3c46d",
   "metadata": {},
   "source": [
    "# done!"
   ]
  }
 ],
 "metadata": {
  "kernelspec": {
   "display_name": "Python 3 (ipykernel)",
   "language": "python",
   "name": "python3"
  },
  "language_info": {
   "codemirror_mode": {
    "name": "ipython",
    "version": 3
   },
   "file_extension": ".py",
   "mimetype": "text/x-python",
   "name": "python",
   "nbconvert_exporter": "python",
   "pygments_lexer": "ipython3",
   "version": "3.10.9"
  }
 },
 "nbformat": 4,
 "nbformat_minor": 5
}
