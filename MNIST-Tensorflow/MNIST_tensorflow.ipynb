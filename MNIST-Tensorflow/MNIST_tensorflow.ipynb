{
 "cells": [
  {
   "cell_type": "code",
   "execution_count": 1,
   "metadata": {
    "id": "3mViTwlJ6KNf"
   },
   "outputs": [],
   "source": [
    "#i used google colab to run this\n",
    "import numpy as np\n",
    "import matplotlib.pyplot as plt\n",
    "import tensorflow as tf"
   ]
  },
  {
   "cell_type": "code",
   "execution_count": 2,
   "metadata": {
    "id": "fxYDf_9665pp"
   },
   "outputs": [],
   "source": [
    "from keras.datasets import mnist #used for downloading mnist data \n",
    "from keras.utils import np_utils #used later to encode the dataset labels"
   ]
  },
  {
   "cell_type": "code",
   "execution_count": 3,
   "metadata": {
    "colab": {
     "base_uri": "https://localhost:8080/"
    },
    "id": "BIyHd-eI7WWR",
    "outputId": "9809492e-9a4c-4fd1-ef4c-f5b62c0970ac"
   },
   "outputs": [
    {
     "name": "stdout",
     "output_type": "stream",
     "text": [
      "Downloading data from https://storage.googleapis.com/tensorflow/tf-keras-datasets/mnist.npz\n",
      "11490434/11490434 [==============================] - 0s 0us/step\n"
     ]
    }
   ],
   "source": [
    "(train_X, train_y), (test_X, test_y) = mnist.load_data() #loading dataset\n"
   ]
  },
  {
   "cell_type": "code",
   "execution_count": 4,
   "metadata": {
    "colab": {
     "base_uri": "https://localhost:8080/"
    },
    "id": "iBrNZ9T38iyn",
    "outputId": "73d05a0f-eb89-413f-a9ed-57b6fc6aa1ad"
   },
   "outputs": [
    {
     "name": "stdout",
     "output_type": "stream",
     "text": [
      "X_train: (60000, 28, 28)\n",
      "Y_train: (60000,)\n",
      "X_test:  (10000, 28, 28)\n",
      "Y_test:  (10000,)\n"
     ]
    }
   ],
   "source": [
    "print('X_train: ' + str(train_X.shape)) #printing the shapes of our data\n",
    "print('Y_train: ' + str(train_y.shape))\n",
    "print('X_test:  '  + str(test_X.shape))\n",
    "print('Y_test:  '  + str(test_y.shape))"
   ]
  },
  {
   "cell_type": "code",
   "execution_count": 5,
   "metadata": {
    "colab": {
     "base_uri": "https://localhost:8080/",
     "height": 297
    },
    "id": "bDtUbtwA9B80",
    "outputId": "38754398-0eb6-4328-de26-0baa67c6876a"
   },
   "outputs": [
    {
     "data": {
      "image/png": "[encoded data removed]",
      "text/plain": [
       "<Figure size 432x288 with 9 Axes>"
      ]
     },
     "metadata": {
      "needs_background": "light"
     },
     "output_type": "display_data"
    }
   ],
   "source": [
    "fig = plt.figure() #plotting the first 9 train examples\n",
    "for i in range(9):  \n",
    " plt.subplot(3, 3, i+1)\n",
    " plt.tight_layout()\n",
    " plt.imshow(train_X[i], cmap=plt.get_cmap('gray'))\n"
   ]
  },
  {
   "cell_type": "code",
   "execution_count": 6,
   "metadata": {
    "id": "roxPQpF_XFt8"
   },
   "outputs": [],
   "source": [
    "train_X = train_X.reshape(-1, 28, 28, 1) #all the images are in grayscale and equal in size(28x28)...\n",
    "test_X = test_X.reshape(-1, 28, 28, 1) #so we can reshape the training data to have a single color channel"
   ]
  },
  {
   "cell_type": "code",
   "execution_count": 7,
   "metadata": {
    "id": "mUkkWFWaZbVO"
   },
   "outputs": [],
   "source": [
    "number_of_classes = 10 #from 0 to 9, we have 10 classes\n",
    "Y_train = np_utils.to_categorical(train_y, number_of_classes) #encoding labels (one-hot)\n",
    "Y_test = np_utils.to_categorical(test_y, number_of_classes)"
   ]
  },
  {
   "cell_type": "code",
   "execution_count": 8,
   "metadata": {
    "id": "eUcJUPBc9NmW"
   },
   "outputs": [],
   "source": [
    "cnn = tf.keras.models.Sequential() #creating our model"
   ]
  },
  {
   "cell_type": "code",
   "execution_count": 9,
   "metadata": {
    "id": "449F9kdABARc"
   },
   "outputs": [],
   "source": [
    "cnn.add(tf.keras.layers.Conv2D(filters=16, kernel_size=3, activation='relu', input_shape=(28,28,1)))"
   ]
  },
  {
   "cell_type": "code",
   "execution_count": 10,
   "metadata": {
    "id": "Vp-T1AULB_dL"
   },
   "outputs": [],
   "source": [
    "cnn.add(tf.keras.layers.MaxPool2D(pool_size=2))"
   ]
  },
  {
   "cell_type": "code",
   "execution_count": 11,
   "metadata": {
    "id": "8LOUcLwKCa67"
   },
   "outputs": [],
   "source": [
    "cnn.add(tf.keras.layers.Conv2D(filters=16, kernel_size=3, activation='relu'))"
   ]
  },
  {
   "cell_type": "code",
   "execution_count": 12,
   "metadata": {
    "id": "5iRa3ZWqCvuF"
   },
   "outputs": [],
   "source": [
    "cnn.add(tf.keras.layers.MaxPool2D(pool_size=2))"
   ]
  },
  {
   "cell_type": "code",
   "execution_count": 13,
   "metadata": {
    "id": "mlA2Q90eDNBx"
   },
   "outputs": [],
   "source": [
    "cnn.add(tf.keras.layers.Flatten())"
   ]
  },
  {
   "cell_type": "code",
   "execution_count": 14,
   "metadata": {
    "id": "0LbAeSOIDpRG"
   },
   "outputs": [],
   "source": [
    "cnn.add(tf.keras.layers.Dense(units=128, activation='relu'))"
   ]
  },
  {
   "cell_type": "code",
   "execution_count": 15,
   "metadata": {
    "id": "_qgKp7PcEElF"
   },
   "outputs": [],
   "source": [
    "cnn.add(tf.keras.layers.Dense(units=10, activation='softmax')) #output layer, consists of 10 units with softmax activation for one-hot encoding"
   ]
  },
  {
   "cell_type": "code",
   "execution_count": 16,
   "metadata": {
    "id": "b5q1V7FiHq9r"
   },
   "outputs": [],
   "source": [
    "cnn.compile(optimizer='adam', loss = 'CategoricalCrossentropy', metrics=['accuracy']) #due to having more than 2 classes we use CategoricalCrossentropy"
   ]
  },
  {
   "cell_type": "code",
   "execution_count": 17,
   "metadata": {
    "colab": {
     "base_uri": "https://localhost:8080/"
    },
    "id": "hcTBy5ZtfB0H",
    "outputId": "45bf6b95-cdcc-4e96-dbda-7c5b03416f89"
   },
   "outputs": [
    {
     "name": "stdout",
     "output_type": "stream",
     "text": [
      "Model: \"sequential\"\n",
      "_________________________________________________________________\n",
      " Layer (type)                Output Shape              Param #   \n",
      "=================================================================\n",
      " conv2d (Conv2D)             (None, 26, 26, 16)        160       \n",
      "                                                                 \n",
      " max_pooling2d (MaxPooling2D  (None, 13, 13, 16)       0         \n",
      " )                                                               \n",
      "                                                                 \n",
      " conv2d_1 (Conv2D)           (None, 11, 11, 16)        2320      \n",
      "                                                                 \n",
      " max_pooling2d_1 (MaxPooling  (None, 5, 5, 16)         0         \n",
      " 2D)                                                             \n",
      "                                                                 \n",
      " flatten (Flatten)           (None, 400)               0         \n",
      "                                                                 \n",
      " dense (Dense)               (None, 128)               51328     \n",
      "                                                                 \n",
      " dense_1 (Dense)             (None, 10)                1290      \n",
      "                                                                 \n",
      "=================================================================\n",
      "Total params: 55,098\n",
      "Trainable params: 55,098\n",
      "Non-trainable params: 0\n",
      "_________________________________________________________________\n"
     ]
    }
   ],
   "source": [
    "cnn.summary() #showing a summary of our model"
   ]
  },
  {
   "cell_type": "code",
   "execution_count": 18,
   "metadata": {
    "colab": {
     "base_uri": "https://localhost:8080/"
    },
    "id": "qUzOitd0QalX",
    "outputId": "0b1f8c56-4f37-4575-844a-4e1287f5bf11"
   },
   "outputs": [
    {
     "name": "stdout",
     "output_type": "stream",
     "text": [
      "Epoch 1/10\n",
      "469/469 [==============================] - 17s 35ms/step - loss: 1.0808 - accuracy: 0.8752 - val_loss: 0.1647 - val_accuracy: 0.9551\n",
      "Epoch 2/10\n",
      "469/469 [==============================] - 16s 34ms/step - loss: 0.1268 - accuracy: 0.9643 - val_loss: 0.1078 - val_accuracy: 0.9697\n",
      "Epoch 3/10\n",
      "469/469 [==============================] - 18s 39ms/step - loss: 0.0749 - accuracy: 0.9775 - val_loss: 0.0905 - val_accuracy: 0.9741\n",
      "Epoch 4/10\n",
      "469/469 [==============================] - 17s 35ms/step - loss: 0.0513 - accuracy: 0.9846 - val_loss: 0.0787 - val_accuracy: 0.9776\n",
      "Epoch 5/10\n",
      "469/469 [==============================] - 17s 36ms/step - loss: 0.0384 - accuracy: 0.9879 - val_loss: 0.0752 - val_accuracy: 0.9804\n",
      "Epoch 6/10\n",
      "469/469 [==============================] - 16s 35ms/step - loss: 0.0314 - accuracy: 0.9901 - val_loss: 0.0757 - val_accuracy: 0.9809\n",
      "Epoch 7/10\n",
      "469/469 [==============================] - 16s 34ms/step - loss: 0.0258 - accuracy: 0.9914 - val_loss: 0.0700 - val_accuracy: 0.9829\n",
      "Epoch 8/10\n",
      "469/469 [==============================] - 17s 37ms/step - loss: 0.0275 - accuracy: 0.9908 - val_loss: 0.0885 - val_accuracy: 0.9782\n",
      "Epoch 9/10\n",
      "469/469 [==============================] - 16s 34ms/step - loss: 0.0231 - accuracy: 0.9924 - val_loss: 0.0684 - val_accuracy: 0.9844\n",
      "Epoch 10/10\n",
      "469/469 [==============================] - 17s 35ms/step - loss: 0.0195 - accuracy: 0.9939 - val_loss: 0.0656 - val_accuracy: 0.9827\n"
     ]
    },
    {
     "data": {
      "text/plain": [
       "<keras.callbacks.History at 0x7f14edf6d400>"
      ]
     },
     "execution_count": 18,
     "metadata": {},
     "output_type": "execute_result"
    }
   ],
   "source": [
    "cnn.fit(train_X, Y_train, batch_size= 128, epochs=10, validation_data=(test_X, Y_test)) #training our model"
   ]
  },
  {
   "cell_type": "code",
   "execution_count": 19,
   "metadata": {
    "id": "TPcedk-njn7C"
   },
   "outputs": [],
   "source": [
    "from keras.utils import load_img, img_to_array #used for testing our model with our own images"
   ]
  },
  {
   "cell_type": "code",
   "execution_count": 20,
   "metadata": {
    "colab": {
     "base_uri": "https://localhost:8080/"
    },
    "id": "DmayEGa5kTpa",
    "outputId": "da8f3606-eb1f-438d-ca8b-c439b45f4213"
   },
   "outputs": [
    {
     "name": "stderr",
     "output_type": "stream",
     "text": [
      "/usr/local/lib/python3.9/dist-packages/keras/utils/image_utils.py:409: UserWarning: grayscale is deprecated. Please use color_mode = \"grayscale\"\n",
      "  warnings.warn(\n"
     ]
    }
   ],
   "source": [
    "test_img = load_img('test.png',grayscale=True, target_size=(28, 28)) #loading image made with paint named test.png \n",
    "#(must be dragged in this notebook directory using the panel at left)\n",
    "#image must be 28x28 with black background, drawing must be made with white colored brush"
   ]
  },
  {
   "cell_type": "code",
   "execution_count": 21,
   "metadata": {
    "id": "DJAWrgHjla3_"
   },
   "outputs": [],
   "source": [
    "test_img = img_to_array(test_img) #converting image to array"
   ]
  },
  {
   "cell_type": "code",
   "execution_count": 22,
   "metadata": {
    "id": "lQ2NEgVxlmA4"
   },
   "outputs": [],
   "source": [
    "test_image = np.expand_dims(test_img, axis=0) #need to make it a 4 dimensional array so it can be applied to model(model trained 4 dimensionally)"
   ]
  },
  {
   "cell_type": "code",
   "execution_count": 23,
   "metadata": {
    "colab": {
     "base_uri": "https://localhost:8080/"
    },
    "id": "hUBuVvEjl0Tz",
    "outputId": "b5f369fa-3da4-4609-96d6-2b66d51bd025"
   },
   "outputs": [
    {
     "data": {
      "text/plain": [
       "(1, 28, 28, 1)"
      ]
     },
     "execution_count": 23,
     "metadata": {},
     "output_type": "execute_result"
    }
   ],
   "source": [
    "test_image.shape"
   ]
  },
  {
   "cell_type": "code",
   "execution_count": 24,
   "metadata": {
    "colab": {
     "base_uri": "https://localhost:8080/"
    },
    "id": "pRmkqSISl2nM",
    "outputId": "94242edf-f975-458c-e9cd-ec769fae7a51"
   },
   "outputs": [
    {
     "name": "stdout",
     "output_type": "stream",
     "text": [
      "1/1 [==============================] - 0s 74ms/step\n"
     ]
    },
    {
     "data": {
      "text/plain": [
       "array([[9.2530665e-18, 1.1355723e-14, 1.0000000e+00, 7.6387761e-15,\n",
       "        9.1182195e-21, 2.7829520e-18, 2.1423658e-20, 1.6221369e-10,\n",
       "        3.9559670e-15, 1.0512949e-14]], dtype=float32)"
      ]
     },
     "execution_count": 24,
     "metadata": {},
     "output_type": "execute_result"
    }
   ],
   "source": [
    "cnn.predict(test_image) #predicting output"
   ]
  },
  {
   "cell_type": "code",
   "execution_count": 25,
   "metadata": {
    "colab": {
     "base_uri": "https://localhost:8080/"
    },
    "id": "SK831tP2wDXt",
    "outputId": "4e09adc0-ea5b-41d2-f3e6-86b0164f0530"
   },
   "outputs": [
    {
     "name": "stdout",
     "output_type": "stream",
     "text": [
      "1/1 [==============================] - 0s 16ms/step\n"
     ]
    }
   ],
   "source": [
    "array = cnn.predict(test_image) #output of our model predicting the label of test image"
   ]
  },
  {
   "cell_type": "code",
   "execution_count": 26,
   "metadata": {
    "colab": {
     "base_uri": "https://localhost:8080/"
    },
    "id": "99XIDMslwuUB",
    "outputId": "75c244ce-a9b1-4e73-cc04-060b67922928"
   },
   "outputs": [
    {
     "data": {
      "text/plain": [
       "2"
      ]
     },
     "execution_count": 26,
     "metadata": {},
     "output_type": "execute_result"
    }
   ],
   "source": [
    "predicteddigit = np.argmax(array) #finding the class with highest output value\n",
    "predicteddigit"
   ]
  },
  {
   "cell_type": "markdown",
   "metadata": {},
   "source": [
    "# end."
   ]
  }
 ],
 "metadata": {
  "colab": {
   "provenance": []
  },
  "kernelspec": {
   "display_name": "Python 3 (ipykernel)",
   "language": "python",
   "name": "python3"
  },
  "language_info": {
   "codemirror_mode": {
    "name": "ipython",
    "version": 3
   },
   "file_extension": ".py",
   "mimetype": "text/x-python",
   "name": "python",
   "nbconvert_exporter": "python",
   "pygments_lexer": "ipython3",
   "version": "3.10.9"
  }
 },
 "nbformat": 4,
 "nbformat_minor": 1
}
